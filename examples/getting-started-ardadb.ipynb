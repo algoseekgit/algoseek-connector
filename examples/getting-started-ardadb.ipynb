{
 "cells": [
  {
   "cell_type": "code",
   "execution_count": null,
   "id": "5c5569b8",
   "metadata": {
    "slideshow": {
     "slide_type": ""
    },
    "tags": []
   },
   "outputs": [],
   "source": [
    "import algoseek_connector as ac\n",
    "from sqlalchemy import func\n",
    "import numpy as np\n",
    "import pandas as pd\n",
    "import time"
   ]
  },
  {
   "cell_type": "code",
   "execution_count": null,
   "id": "73a4e707",
   "metadata": {},
   "outputs": [],
   "source": [
    "# a ResourceManager creates connections to different data sources\n",
    "# set access to the metadata API with the environment variables\n",
    "# ALGOSEEK_API_USERNAME and ALGOSEEK_API_PASSWORD\n",
    "manager = ac.ResourceManager()"
   ]
  },
  {
   "cell_type": "code",
   "execution_count": null,
   "id": "67e8a9e5",
   "metadata": {},
   "outputs": [],
   "source": [
    "# a data source manages data groups avaiable in a data source\n",
    "# Set access to ArdaDB using the environment variables\n",
    "# ALGOSEEK_ARDADB_HOST, ALGOSEEK_ARDADB_USERNAME and ALGOSEEK_ARDADB_PASSWORD\n",
    "data_source = manager.create_data_source(\"ardadb\")"
   ]
  },
  {
   "cell_type": "code",
   "execution_count": null,
   "id": "58f5d51f",
   "metadata": {},
   "outputs": [],
   "source": [
    "data_source.groups.USEquityMarketData"
   ]
  },
  {
   "cell_type": "code",
   "execution_count": null,
   "id": "f133105d",
   "metadata": {},
   "outputs": [],
   "source": [
    "# DataGroup instances are created using the fetch method.\n",
    "group = data_source.groups.USEquityMarketData.fetch()"
   ]
  },
  {
   "cell_type": "code",
   "execution_count": null,
   "id": "3f573912",
   "metadata": {},
   "outputs": [],
   "source": [
    "# a dataset is created using the DataSetFetcher fetch method.\n",
    "dataset = group.datasets.TradeOnly.fetch()"
   ]
  },
  {
   "cell_type": "code",
   "execution_count": null,
   "id": "d11d6f4b",
   "metadata": {},
   "outputs": [],
   "source": [
    "dataset"
   ]
  },
  {
   "cell_type": "markdown",
   "id": "965de1d2",
   "metadata": {},
   "source": [
    "## Querying the dataset"
   ]
  },
  {
   "cell_type": "code",
   "execution_count": null,
   "id": "6c000bc0",
   "metadata": {},
   "outputs": [],
   "source": [
    "# a column handler contains the dataset columns\n",
    "# columns can also be accessed using dataset attributes.\n",
    "c = dataset.get_column_handle()"
   ]
  },
  {
   "cell_type": "markdown",
   "id": "44469364",
   "metadata": {},
   "source": [
    "## 1- Simple select query"
   ]
  },
  {
   "cell_type": "code",
   "execution_count": null,
   "id": "5bd9de86",
   "metadata": {},
   "outputs": [],
   "source": [
    "# SQL statement objects are created using the dataset's select method.\n",
    "# SQL statements are created using method chaining using utilities\n",
    "# from SQLAlchemy\n",
    "stmt = dataset.select().limit(10)"
   ]
  },
  {
   "cell_type": "code",
   "execution_count": null,
   "id": "e614940b",
   "metadata": {},
   "outputs": [],
   "source": [
    "# Using the compile method, the SQL statement created can be displayed as a formatted code block\n",
    "query = dataset.compile(stmt)\n",
    "query"
   ]
  },
  {
   "cell_type": "code",
   "execution_count": null,
   "id": "566a8273",
   "metadata": {},
   "outputs": [],
   "source": [
    "%%time\n",
    "df = dataset.fetch_dataframe(stmt)"
   ]
  },
  {
   "cell_type": "code",
   "execution_count": null,
   "id": "149a5f5c",
   "metadata": {
    "scrolled": true
   },
   "outputs": [],
   "source": [
    "df"
   ]
  },
  {
   "cell_type": "code",
   "execution_count": null,
   "id": "46481705",
   "metadata": {},
   "outputs": [],
   "source": [
    "df.dtypes"
   ]
  },
  {
   "cell_type": "markdown",
   "id": "50af6a18",
   "metadata": {},
   "source": [
    "## 2 - Select with group by"
   ]
  },
  {
   "cell_type": "code",
   "execution_count": null,
   "id": "8d1f7185",
   "metadata": {},
   "outputs": [],
   "source": [
    "agg_year_label = \"year\"\n",
    "year_having_filter = 2015\n",
    "stmt = (\n",
    "    dataset.select(\n",
    "        func.avg(dataset.Quantity).label(\"mean_quantity\"),\n",
    "        func.toYear(dataset.TradeDate).label(agg_year_label),\n",
    "    )\n",
    "    .group_by(func.toYear(dataset.TradeDate))\n",
    "    .having(func.toYear(dataset.TradeDate) == year_having_filter)\n",
    ")"
   ]
  },
  {
   "cell_type": "code",
   "execution_count": null,
   "id": "377be7dd",
   "metadata": {},
   "outputs": [],
   "source": [
    "dataset.compile(stmt)"
   ]
  },
  {
   "cell_type": "code",
   "execution_count": null,
   "id": "4a2e340c",
   "metadata": {},
   "outputs": [],
   "source": [
    "%%time\n",
    "result = dataset.fetch_dataframe(stmt)"
   ]
  },
  {
   "cell_type": "code",
   "execution_count": null,
   "id": "35c2a6ce",
   "metadata": {},
   "outputs": [],
   "source": [
    "result.head()"
   ]
  },
  {
   "cell_type": "markdown",
   "id": "a42a77b3",
   "metadata": {},
   "source": [
    "## Streaming queries"
   ]
  },
  {
   "cell_type": "code",
   "execution_count": null,
   "id": "d0fdb91f",
   "metadata": {},
   "outputs": [],
   "source": [
    "stmt = dataset.select(c[\"Quantity\"], c[\"Ticker\"]).limit(50)"
   ]
  },
  {
   "cell_type": "code",
   "execution_count": null,
   "id": "a0b959ff",
   "metadata": {},
   "outputs": [],
   "source": [
    "query = dataset.compile(stmt)\n",
    "query"
   ]
  },
  {
   "cell_type": "code",
   "execution_count": null,
   "id": "f9433b59",
   "metadata": {},
   "outputs": [],
   "source": [
    "query.parameters"
   ]
  },
  {
   "cell_type": "code",
   "execution_count": null,
   "id": "f41ef909",
   "metadata": {},
   "outputs": [],
   "source": [
    "res = list()\n",
    "for chunk in dataset.fetch_iter_dataframe(stmt, size=10):\n",
    "    print(f\"Columns: {list(chunk.columns)}, shape: {chunk.shape}\")\n",
    "    res.append(chunk)\n",
    "    time.sleep(0.5)"
   ]
  },
  {
   "cell_type": "code",
   "execution_count": null,
   "id": "246ba2f7",
   "metadata": {},
   "outputs": [],
   "source": [
    "res[0]"
   ]
  },
  {
   "cell_type": "markdown",
   "id": "87b51f68",
   "metadata": {},
   "source": [
    "## Working with the TAQ dataset"
   ]
  },
  {
   "cell_type": "code",
   "execution_count": null,
   "id": "89aa4a05",
   "metadata": {},
   "outputs": [],
   "source": [
    "dataset = group.datasets.TradeAndQuote.fetch()\n",
    "dataset"
   ]
  },
  {
   "cell_type": "code",
   "execution_count": null,
   "id": "5690b0b3",
   "metadata": {},
   "outputs": [],
   "source": [
    "stmt = dataset.select().where((dataset[\"TradeDate\"] == \"20150303\") & (dataset[\"Ticker\"] == \"AAPL\"))"
   ]
  },
  {
   "cell_type": "code",
   "execution_count": null,
   "id": "5f74f7ab",
   "metadata": {},
   "outputs": [],
   "source": [
    "dataset.compile(stmt)"
   ]
  },
  {
   "cell_type": "code",
   "execution_count": null,
   "id": "1c18d0c5",
   "metadata": {},
   "outputs": [],
   "source": [
    "%%time\n",
    "df = dataset.fetch_dataframe(stmt)\n",
    "size_mb = df.memory_usage().sum() / (1024 * 1024)\n",
    "print(f\"data size = {size_mb:.1f} MiB\")"
   ]
  },
  {
   "cell_type": "code",
   "execution_count": null,
   "id": "a788409b",
   "metadata": {},
   "outputs": [],
   "source": [
    "df.head()"
   ]
  }
 ],
 "metadata": {
  "kernelspec": {
   "display_name": "Python 3 (ipykernel)",
   "language": "python",
   "name": "python3"
  },
  "language_info": {
   "codemirror_mode": {
    "name": "ipython",
    "version": 3
   },
   "file_extension": ".py",
   "mimetype": "text/x-python",
   "name": "python",
   "nbconvert_exporter": "python",
   "pygments_lexer": "ipython3",
   "version": "3.10.11"
  }
 },
 "nbformat": 4,
 "nbformat_minor": 5
}
