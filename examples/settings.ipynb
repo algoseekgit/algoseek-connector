{
 "cells": [
  {
   "cell_type": "code",
   "execution_count": null,
   "id": "d43c768b-4f03-4120-aa3b-2cb04b30d85a",
   "metadata": {},
   "outputs": [],
   "source": [
    "import os\n",
    "\n",
    "from algoseek_connector.settings import load_settings"
   ]
  },
  {
   "cell_type": "markdown",
   "id": "e6ed54dc-4b91-4ef1-92b2-70aac409a65a",
   "metadata": {},
   "source": [
    "# Settings management\n",
    "\n",
    "Algoseek connector use pydantic settings extension, and are fully configurable using environment variables. Settings are passed to the different data sources when they are created."
   ]
  },
  {
   "cell_type": "code",
   "execution_count": null,
   "id": "72f16bb0-7240-41ad-958b-c11512fd5152",
   "metadata": {},
   "outputs": [],
   "source": [
    "# example: setting a variable using environment variables\n",
    "\n",
    "# the syntax for environment variables is `ALGOSEEK__GROUP__FIELD\n",
    "# the setting groups are `ARDADB`, `S3` and `DATASET_API`\n",
    "os.environ[\"ALGOSEEK__ARDADB__USER\"] = \"my_username\"\n",
    "\n",
    "s = load_settings()\n",
    "print(f\"ArdaDB user set to `{s.ardadb.user}`\")"
   ]
  },
  {
   "cell_type": "code",
   "execution_count": null,
   "id": "2d2af723-5a6c-4352-b66f-d2baad11ecac",
   "metadata": {},
   "outputs": [],
   "source": [
    "print(s.ardadb)\n",
    "print(s.s3)\n",
    "print(s.dataset_api)"
   ]
  },
  {
   "cell_type": "code",
   "execution_count": null,
   "id": "6643bd03-c56a-4669-90cb-f35e85385b75",
   "metadata": {},
   "outputs": [],
   "source": [
    "# be aware that settings are loaded only once, if you update environment variables\n",
    "# and you already created a settings instance you will need to restart your environment.\n",
    "\n",
    "os.environ[\"ALGOSEEK__ARDADB__USER\"] = \"a_new_user_name\"\n",
    "s = load_settings()\n",
    "print(f\"ArdaDB user set to `{s.ardadb.user}`\")"
   ]
  },
  {
   "cell_type": "code",
   "execution_count": null,
   "id": "93dad193-cf1b-4df1-9cbe-bbd797eba4b3",
   "metadata": {},
   "outputs": [],
   "source": [
    "# Despite this, you can update model fields as with any pydantic model\n",
    "s.ardadb.user = \"a_new_user_name\"\n",
    "print(f\"ArdaDB user set to `{s.ardadb.user}`\")"
   ]
  }
 ],
 "metadata": {
  "kernelspec": {
   "display_name": "Python 3 (ipykernel)",
   "language": "python",
   "name": "python3"
  },
  "language_info": {
   "codemirror_mode": {
    "name": "ipython",
    "version": 3
   },
   "file_extension": ".py",
   "mimetype": "text/x-python",
   "name": "python",
   "nbconvert_exporter": "python",
   "pygments_lexer": "ipython3",
   "version": "3.10.12"
  }
 },
 "nbformat": 4,
 "nbformat_minor": 5
}
