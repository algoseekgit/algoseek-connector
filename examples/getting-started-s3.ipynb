{
 "cells": [
  {
   "cell_type": "code",
   "execution_count": null,
   "id": "8f9700bb",
   "metadata": {},
   "outputs": [],
   "source": [
    "import algoseek_connector as ac\n",
    "from pathlib import Path"
   ]
  },
  {
   "cell_type": "code",
   "execution_count": null,
   "id": "6237a743",
   "metadata": {},
   "outputs": [],
   "source": [
    "manager = ac.ResourceManager()"
   ]
  },
  {
   "cell_type": "code",
   "execution_count": null,
   "id": "8d7bd3e3",
   "metadata": {},
   "outputs": [],
   "source": [
    "# set up the connection to the S3 datasets using the environment variables\n",
    "# ALGOSEEK__S3__PROFILE to get the credentials from ~/.aws/credentials or\n",
    "# the variables ALGOSEEK__S3__ACCESS_KEY_ID and ALGOSEEK__S3__SECRET_ACCESS_KEY\n",
    "data_source = manager.create_data_source(\"s3\")"
   ]
  },
  {
   "cell_type": "code",
   "execution_count": null,
   "id": "95a8ca59",
   "metadata": {},
   "outputs": [],
   "source": [
    "group = data_source.groups.us_equity.fetch()"
   ]
  },
  {
   "cell_type": "code",
   "execution_count": null,
   "id": "839da0b0",
   "metadata": {},
   "outputs": [],
   "source": [
    "group"
   ]
  },
  {
   "cell_type": "code",
   "execution_count": null,
   "id": "25764085",
   "metadata": {},
   "outputs": [],
   "source": [
    "dataset = group.datasets.eq_taq_1min"
   ]
  },
  {
   "cell_type": "code",
   "execution_count": null,
   "id": "b897086e-8b4b-42ed-bdd3-27ff5cd31c47",
   "metadata": {},
   "outputs": [],
   "source": [
    "dataset"
   ]
  },
  {
   "cell_type": "code",
   "execution_count": null,
   "id": "8dc3cd04",
   "metadata": {},
   "outputs": [],
   "source": [
    "date = (\"20230625\", \"20230704\") # date range to download\n",
    "symbols = [\"AMZN\", \"AAPL\"] # symbols to download\n",
    "download_dir = Path(\"data\")\n",
    "download_dir.mkdir(exist_ok=True)\n",
    "dataset = dataset.download(download_dir, date, symbols)"
   ]
  },
  {
   "cell_type": "code",
   "execution_count": null,
   "id": "1b3dbb31-0184-4258-9d20-340494e78b08",
   "metadata": {},
   "outputs": [],
   "source": [
    "for path in sorted(download_dir.rglob(\"*\")):\n",
    "    if path.is_file():\n",
    "        print(path)"
   ]
  }
 ],
 "metadata": {
  "kernelspec": {
   "display_name": "Python 3 (ipykernel)",
   "language": "python",
   "name": "python3"
  },
  "language_info": {
   "codemirror_mode": {
    "name": "ipython",
    "version": 3
   },
   "file_extension": ".py",
   "mimetype": "text/x-python",
   "name": "python",
   "nbconvert_exporter": "python",
   "pygments_lexer": "ipython3",
   "version": "3.10.12"
  }
 },
 "nbformat": 4,
 "nbformat_minor": 5
}
