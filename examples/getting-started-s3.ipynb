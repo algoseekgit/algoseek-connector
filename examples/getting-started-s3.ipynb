{
 "cells": [
  {
   "cell_type": "code",
   "execution_count": null,
   "id": "8f9700bb",
   "metadata": {},
   "outputs": [],
   "source": [
    "import algoseek_connector as ac\n",
    "from pathlib import Path"
   ]
  },
  {
   "cell_type": "code",
   "execution_count": null,
   "id": "6237a743",
   "metadata": {},
   "outputs": [],
   "source": [
    "manager = ac.ResourceManager()"
   ]
  },
  {
   "cell_type": "code",
   "execution_count": null,
   "id": "8d7bd3e3",
   "metadata": {},
   "outputs": [],
   "source": [
    "# set up the connection to the S3 datasets using the environment variables\n",
    "# ALGOSEEK_AWS_PROFILE to get the credentials from ~/.aws/credentials or\n",
    "# the variables ALGOSEEK_AWS_ACCESS_KEY_ID and ALGOSEEK_AWS_SECRET_ACCESS_KEY\n",
    "data_source = manager.create_data_source(\"s3\")"
   ]
  },
  {
   "cell_type": "code",
   "execution_count": null,
   "id": "95a8ca59",
   "metadata": {},
   "outputs": [],
   "source": [
    "group = data_source.groups.us_equity.fetch()"
   ]
  },
  {
   "cell_type": "code",
   "execution_count": null,
   "id": "839da0b0",
   "metadata": {},
   "outputs": [],
   "source": [
    "group"
   ]
  },
  {
   "cell_type": "code",
   "execution_count": null,
   "id": "25764085",
   "metadata": {},
   "outputs": [],
   "source": [
    "dataset_fetcher = group.datasets.eq_taq_1min"
   ]
  },
  {
   "cell_type": "code",
   "execution_count": null,
   "id": "8dc3cd04",
   "metadata": {},
   "outputs": [],
   "source": [
    "date = (\"20230625\", \"20230704\")\n",
    "symbols = [\"AMZN\", \"AAPL\"]\n",
    "path = Path(\"data\")\n",
    "path.mkdir(exist_ok=True)\n",
    "dataset = dataset_fetcher.download(path, date, symbols)"
   ]
  },
  {
   "cell_type": "code",
   "execution_count": null,
   "id": "e9749aaa",
   "metadata": {},
   "outputs": [],
   "source": [
    "# Trying to create a dataset instance fails due to no implement SQL methods.\n",
    "# Need to add more description in the docs...\n",
    "group.datasets.eq_taq_1min.fetch()"
   ]
  },
  {
   "cell_type": "code",
   "execution_count": null,
   "id": "c8ba437e",
   "metadata": {},
   "outputs": [],
   "source": []
  }
 ],
 "metadata": {
  "kernelspec": {
   "display_name": "Python 3 (ipykernel)",
   "language": "python",
   "name": "python3"
  },
  "language_info": {
   "codemirror_mode": {
    "name": "ipython",
    "version": 3
   },
   "file_extension": ".py",
   "mimetype": "text/x-python",
   "name": "python",
   "nbconvert_exporter": "python",
   "pygments_lexer": "ipython3",
   "version": "3.10.11"
  }
 },
 "nbformat": 4,
 "nbformat_minor": 5
}
