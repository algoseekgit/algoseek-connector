{
 "cells": [
  {
   "cell_type": "code",
   "execution_count": 1,
   "id": "11f01525",
   "metadata": {},
   "outputs": [
    {
     "name": "stderr",
     "output_type": "stream",
     "text": [
      "/home/taras/.pyenv/versions/3.7.9/envs/asconn/lib/python3.7/site-packages/pandas/compat/__init__.py:124: UserWarning: Could not import the lzma module. Your installed Python is incomplete. Attempting to use lzma compression will result in a RuntimeError.\n",
      "  warnings.warn(msg)\n"
     ]
    }
   ],
   "source": [
    "%matplotlib inline\n",
    "import matplotlib.pyplot as plt\n",
    "import pandas as pd"
   ]
  },
  {
   "cell_type": "code",
   "execution_count": 2,
   "id": "e3178dda",
   "metadata": {},
   "outputs": [],
   "source": [
    "import settings\n",
    "import algoconnect\n",
    "import algoconnect.functions as fn"
   ]
  },
  {
   "cell_type": "code",
   "execution_count": 3,
   "id": "71a94cf2",
   "metadata": {},
   "outputs": [],
   "source": [
    "session = algoconnect.Session(settings.host, settings.user, settings.password)"
   ]
  },
  {
   "cell_type": "code",
   "execution_count": 4,
   "id": "6ea3dcb5",
   "metadata": {},
   "outputs": [
    {
     "data": {
      "text/plain": [
       "[(1,)]"
      ]
     },
     "execution_count": 4,
     "metadata": {},
     "output_type": "execute_result"
    }
   ],
   "source": [
    "session.ping()"
   ]
  },
  {
   "cell_type": "code",
   "execution_count": 5,
   "id": "1ee2bd2a",
   "metadata": {},
   "outputs": [],
   "source": [
    "resource = algoconnect.DataResource(session)"
   ]
  },
  {
   "cell_type": "code",
   "execution_count": 6,
   "id": "db36b11f",
   "metadata": {},
   "outputs": [],
   "source": [
    "ds = resource.datagroups.USEquityMarketData.datasets.TradeAndQuote"
   ]
  },
  {
   "cell_type": "code",
   "execution_count": 8,
   "id": "6951dca5",
   "metadata": {
    "scrolled": true
   },
   "outputs": [
    {
     "data": {
      "text/html": [
       "<div>\n",
       "<style scoped>\n",
       "    .dataframe tbody tr th:only-of-type {\n",
       "        vertical-align: middle;\n",
       "    }\n",
       "\n",
       "    .dataframe tbody tr th {\n",
       "        vertical-align: top;\n",
       "    }\n",
       "\n",
       "    .dataframe thead th {\n",
       "        text-align: right;\n",
       "    }\n",
       "</style>\n",
       "<table border=\"1\" class=\"dataframe\">\n",
       "  <thead>\n",
       "    <tr style=\"text-align: right;\">\n",
       "      <th></th>\n",
       "      <th>EventDateTime</th>\n",
       "      <th>EventType</th>\n",
       "      <th>Ticker</th>\n",
       "      <th>SecId</th>\n",
       "      <th>Price</th>\n",
       "      <th>Quantity</th>\n",
       "      <th>Exchange</th>\n",
       "      <th>ConditionCode</th>\n",
       "    </tr>\n",
       "  </thead>\n",
       "  <tbody>\n",
       "    <tr>\n",
       "      <th>0</th>\n",
       "      <td>2022-02-01 03:59:00.106178-05:00</td>\n",
       "      <td>QUOTE BID</td>\n",
       "      <td>A</td>\n",
       "      <td>32952</td>\n",
       "      <td>0</td>\n",
       "      <td>0</td>\n",
       "      <td>EDGX</td>\n",
       "      <td>1</td>\n",
       "    </tr>\n",
       "    <tr>\n",
       "      <th>1</th>\n",
       "      <td>2022-02-01 03:59:00.106178-05:00</td>\n",
       "      <td>QUOTE ASK</td>\n",
       "      <td>A</td>\n",
       "      <td>32952</td>\n",
       "      <td>0</td>\n",
       "      <td>0</td>\n",
       "      <td>EDGX</td>\n",
       "      <td>1</td>\n",
       "    </tr>\n",
       "    <tr>\n",
       "      <th>2</th>\n",
       "      <td>2022-02-01 03:59:00.106178-05:00</td>\n",
       "      <td>QUOTE BID NB</td>\n",
       "      <td>A</td>\n",
       "      <td>32952</td>\n",
       "      <td>0</td>\n",
       "      <td>0</td>\n",
       "      <td>UNKNOWN</td>\n",
       "      <td>1</td>\n",
       "    </tr>\n",
       "    <tr>\n",
       "      <th>3</th>\n",
       "      <td>2022-02-01 03:59:00.106178-05:00</td>\n",
       "      <td>QUOTE ASK NB</td>\n",
       "      <td>A</td>\n",
       "      <td>32952</td>\n",
       "      <td>0</td>\n",
       "      <td>0</td>\n",
       "      <td>UNKNOWN</td>\n",
       "      <td>1</td>\n",
       "    </tr>\n",
       "    <tr>\n",
       "      <th>4</th>\n",
       "      <td>2022-02-01 03:59:00.158608-05:00</td>\n",
       "      <td>QUOTE BID</td>\n",
       "      <td>A</td>\n",
       "      <td>32952</td>\n",
       "      <td>0</td>\n",
       "      <td>0</td>\n",
       "      <td>BATS</td>\n",
       "      <td>1</td>\n",
       "    </tr>\n",
       "    <tr>\n",
       "      <th>5</th>\n",
       "      <td>2022-02-01 03:59:00.158608-05:00</td>\n",
       "      <td>QUOTE ASK</td>\n",
       "      <td>A</td>\n",
       "      <td>32952</td>\n",
       "      <td>0</td>\n",
       "      <td>0</td>\n",
       "      <td>BATS</td>\n",
       "      <td>1</td>\n",
       "    </tr>\n",
       "    <tr>\n",
       "      <th>6</th>\n",
       "      <td>2022-02-01 03:59:00.158608-05:00</td>\n",
       "      <td>QUOTE BID NB</td>\n",
       "      <td>A</td>\n",
       "      <td>32952</td>\n",
       "      <td>0</td>\n",
       "      <td>0</td>\n",
       "      <td>UNKNOWN</td>\n",
       "      <td>1</td>\n",
       "    </tr>\n",
       "    <tr>\n",
       "      <th>7</th>\n",
       "      <td>2022-02-01 03:59:00.158608-05:00</td>\n",
       "      <td>QUOTE ASK NB</td>\n",
       "      <td>A</td>\n",
       "      <td>32952</td>\n",
       "      <td>0</td>\n",
       "      <td>0</td>\n",
       "      <td>UNKNOWN</td>\n",
       "      <td>1</td>\n",
       "    </tr>\n",
       "    <tr>\n",
       "      <th>8</th>\n",
       "      <td>2022-02-01 04:00:00.050689-05:00</td>\n",
       "      <td>QUOTE BID NB</td>\n",
       "      <td>A</td>\n",
       "      <td>32952</td>\n",
       "      <td>0</td>\n",
       "      <td>0</td>\n",
       "      <td>EDGX</td>\n",
       "      <td>1</td>\n",
       "    </tr>\n",
       "    <tr>\n",
       "      <th>9</th>\n",
       "      <td>2022-02-01 04:00:00.050689-05:00</td>\n",
       "      <td>QUOTE ASK NB</td>\n",
       "      <td>A</td>\n",
       "      <td>32952</td>\n",
       "      <td>152</td>\n",
       "      <td>100</td>\n",
       "      <td>EDGX</td>\n",
       "      <td>1</td>\n",
       "    </tr>\n",
       "  </tbody>\n",
       "</table>\n",
       "</div>"
      ],
      "text/plain": [
       "                     EventDateTime     EventType Ticker  SecId Price  \\\n",
       "0 2022-02-01 03:59:00.106178-05:00     QUOTE BID      A  32952     0   \n",
       "1 2022-02-01 03:59:00.106178-05:00     QUOTE ASK      A  32952     0   \n",
       "2 2022-02-01 03:59:00.106178-05:00  QUOTE BID NB      A  32952     0   \n",
       "3 2022-02-01 03:59:00.106178-05:00  QUOTE ASK NB      A  32952     0   \n",
       "4 2022-02-01 03:59:00.158608-05:00     QUOTE BID      A  32952     0   \n",
       "5 2022-02-01 03:59:00.158608-05:00     QUOTE ASK      A  32952     0   \n",
       "6 2022-02-01 03:59:00.158608-05:00  QUOTE BID NB      A  32952     0   \n",
       "7 2022-02-01 03:59:00.158608-05:00  QUOTE ASK NB      A  32952     0   \n",
       "8 2022-02-01 04:00:00.050689-05:00  QUOTE BID NB      A  32952     0   \n",
       "9 2022-02-01 04:00:00.050689-05:00  QUOTE ASK NB      A  32952   152   \n",
       "\n",
       "   Quantity Exchange  ConditionCode  \n",
       "0         0     EDGX              1  \n",
       "1         0     EDGX              1  \n",
       "2         0  UNKNOWN              1  \n",
       "3         0  UNKNOWN              1  \n",
       "4         0     BATS              1  \n",
       "5         0     BATS              1  \n",
       "6         0  UNKNOWN              1  \n",
       "7         0  UNKNOWN              1  \n",
       "8         0     EDGX              1  \n",
       "9       100     EDGX              1  "
      ]
     },
     "execution_count": 8,
     "metadata": {},
     "output_type": "execute_result"
    }
   ],
   "source": [
    "ds.head().fetch()"
   ]
  },
  {
   "cell_type": "code",
   "execution_count": 11,
   "id": "06b112a5",
   "metadata": {},
   "outputs": [
    {
     "data": {
      "text/html": [
       "<div>\n",
       "<style scoped>\n",
       "    .dataframe tbody tr th:only-of-type {\n",
       "        vertical-align: middle;\n",
       "    }\n",
       "\n",
       "    .dataframe tbody tr th {\n",
       "        vertical-align: top;\n",
       "    }\n",
       "\n",
       "    .dataframe thead th {\n",
       "        text-align: right;\n",
       "    }\n",
       "</style>\n",
       "<table border=\"1\" class=\"dataframe\">\n",
       "  <thead>\n",
       "    <tr style=\"text-align: right;\">\n",
       "      <th></th>\n",
       "      <th>Ticker</th>\n",
       "      <th>Price</th>\n",
       "      <th>Quantity</th>\n",
       "    </tr>\n",
       "  </thead>\n",
       "  <tbody>\n",
       "    <tr>\n",
       "      <th>0</th>\n",
       "      <td>A</td>\n",
       "      <td>139.32</td>\n",
       "      <td>1483</td>\n",
       "    </tr>\n",
       "    <tr>\n",
       "      <th>1</th>\n",
       "      <td>A</td>\n",
       "      <td>140.53</td>\n",
       "      <td>5</td>\n",
       "    </tr>\n",
       "    <tr>\n",
       "      <th>2</th>\n",
       "      <td>A</td>\n",
       "      <td>140.53</td>\n",
       "      <td>17</td>\n",
       "    </tr>\n",
       "    <tr>\n",
       "      <th>3</th>\n",
       "      <td>A</td>\n",
       "      <td>140.53</td>\n",
       "      <td>5</td>\n",
       "    </tr>\n",
       "    <tr>\n",
       "      <th>4</th>\n",
       "      <td>A</td>\n",
       "      <td>140.53</td>\n",
       "      <td>8</td>\n",
       "    </tr>\n",
       "    <tr>\n",
       "      <th>...</th>\n",
       "      <td>...</td>\n",
       "      <td>...</td>\n",
       "      <td>...</td>\n",
       "    </tr>\n",
       "    <tr>\n",
       "      <th>995</th>\n",
       "      <td>MET</td>\n",
       "      <td>67.458</td>\n",
       "      <td>18</td>\n",
       "    </tr>\n",
       "    <tr>\n",
       "      <th>996</th>\n",
       "      <td>MET</td>\n",
       "      <td>67.45</td>\n",
       "      <td>5</td>\n",
       "    </tr>\n",
       "    <tr>\n",
       "      <th>997</th>\n",
       "      <td>MET</td>\n",
       "      <td>67.45</td>\n",
       "      <td>90</td>\n",
       "    </tr>\n",
       "    <tr>\n",
       "      <th>998</th>\n",
       "      <td>MET</td>\n",
       "      <td>67.47</td>\n",
       "      <td>2</td>\n",
       "    </tr>\n",
       "    <tr>\n",
       "      <th>999</th>\n",
       "      <td>MET</td>\n",
       "      <td>67.44</td>\n",
       "      <td>1</td>\n",
       "    </tr>\n",
       "  </tbody>\n",
       "</table>\n",
       "<p>1000 rows × 3 columns</p>\n",
       "</div>"
      ],
      "text/plain": [
       "    Ticker   Price  Quantity\n",
       "0        A  139.32      1483\n",
       "1        A  140.53         5\n",
       "2        A  140.53        17\n",
       "3        A  140.53         5\n",
       "4        A  140.53         8\n",
       "..     ...     ...       ...\n",
       "995    MET  67.458        18\n",
       "996    MET   67.45         5\n",
       "997    MET   67.45        90\n",
       "998    MET   67.47         2\n",
       "999    MET   67.44         1\n",
       "\n",
       "[1000 rows x 3 columns]"
      ]
     },
     "execution_count": 11,
     "metadata": {},
     "output_type": "execute_result"
    }
   ],
   "source": [
    "ds.select([ds.Ticker, ds.Price, ds.Quantity]).filter(\n",
    "    (fn.toDate(ds.EventDateTime) == '2022-02-01') & \n",
    "    (ds.Exchange == 'FINRA')\n",
    ").head(1000).fetch()"
   ]
  },
  {
   "cell_type": "code",
   "execution_count": 12,
   "id": "91ed5992",
   "metadata": {},
   "outputs": [],
   "source": [
    "eq_trades = algoconnect.Dataset('USEquityMarketData', 'TradeOnly', session=session)"
   ]
  },
  {
   "cell_type": "code",
   "execution_count": 13,
   "id": "e3128aac",
   "metadata": {
    "scrolled": true
   },
   "outputs": [
    {
     "data": {
      "text/html": [
       "<div>\n",
       "<style scoped>\n",
       "    .dataframe tbody tr th:only-of-type {\n",
       "        vertical-align: middle;\n",
       "    }\n",
       "\n",
       "    .dataframe tbody tr th {\n",
       "        vertical-align: top;\n",
       "    }\n",
       "\n",
       "    .dataframe thead th {\n",
       "        text-align: right;\n",
       "    }\n",
       "</style>\n",
       "<table border=\"1\" class=\"dataframe\">\n",
       "  <thead>\n",
       "    <tr style=\"text-align: right;\">\n",
       "      <th></th>\n",
       "      <th>EventDateTime</th>\n",
       "      <th>EventType</th>\n",
       "      <th>Ticker</th>\n",
       "      <th>SecId</th>\n",
       "      <th>Price</th>\n",
       "      <th>Quantity</th>\n",
       "      <th>Exchange</th>\n",
       "      <th>ConditionCode</th>\n",
       "    </tr>\n",
       "  </thead>\n",
       "  <tbody>\n",
       "    <tr>\n",
       "      <th>0</th>\n",
       "      <td>2022-01-20 08:00:00.204207-05:00</td>\n",
       "      <td>TRADE</td>\n",
       "      <td>AMZN</td>\n",
       "      <td>33127</td>\n",
       "      <td>3139</td>\n",
       "      <td>2</td>\n",
       "      <td>FINRA</td>\n",
       "      <td>2147484673</td>\n",
       "    </tr>\n",
       "    <tr>\n",
       "      <th>1</th>\n",
       "      <td>2022-01-20 08:00:00.340423-05:00</td>\n",
       "      <td>TRADE</td>\n",
       "      <td>AMZN</td>\n",
       "      <td>33127</td>\n",
       "      <td>3142</td>\n",
       "      <td>50</td>\n",
       "      <td>FINRA</td>\n",
       "      <td>2147484673</td>\n",
       "    </tr>\n",
       "    <tr>\n",
       "      <th>2</th>\n",
       "      <td>2022-01-20 08:00:00.383482-05:00</td>\n",
       "      <td>TRADE</td>\n",
       "      <td>AMZN</td>\n",
       "      <td>33127</td>\n",
       "      <td>3137.89</td>\n",
       "      <td>3</td>\n",
       "      <td>FINRA</td>\n",
       "      <td>2147484673</td>\n",
       "    </tr>\n",
       "    <tr>\n",
       "      <th>3</th>\n",
       "      <td>2022-01-20 08:00:00.412228-05:00</td>\n",
       "      <td>TRADE</td>\n",
       "      <td>AMZN</td>\n",
       "      <td>33127</td>\n",
       "      <td>3140.4</td>\n",
       "      <td>5</td>\n",
       "      <td>FINRA</td>\n",
       "      <td>2147484673</td>\n",
       "    </tr>\n",
       "    <tr>\n",
       "      <th>4</th>\n",
       "      <td>2022-01-20 08:00:00.475118-05:00</td>\n",
       "      <td>TRADE</td>\n",
       "      <td>AMZN</td>\n",
       "      <td>33127</td>\n",
       "      <td>3143.0997</td>\n",
       "      <td>30</td>\n",
       "      <td>FINRA</td>\n",
       "      <td>2147484673</td>\n",
       "    </tr>\n",
       "    <tr>\n",
       "      <th>...</th>\n",
       "      <td>...</td>\n",
       "      <td>...</td>\n",
       "      <td>...</td>\n",
       "      <td>...</td>\n",
       "      <td>...</td>\n",
       "      <td>...</td>\n",
       "      <td>...</td>\n",
       "      <td>...</td>\n",
       "    </tr>\n",
       "    <tr>\n",
       "      <th>95</th>\n",
       "      <td>2022-01-20 08:01:40.541327-05:00</td>\n",
       "      <td>TRADE</td>\n",
       "      <td>AMZN</td>\n",
       "      <td>33127</td>\n",
       "      <td>3135.26</td>\n",
       "      <td>20</td>\n",
       "      <td>FINRA</td>\n",
       "      <td>2147484673</td>\n",
       "    </tr>\n",
       "    <tr>\n",
       "      <th>96</th>\n",
       "      <td>2022-01-20 08:02:13.634322-05:00</td>\n",
       "      <td>TRADE</td>\n",
       "      <td>AMZN</td>\n",
       "      <td>33127</td>\n",
       "      <td>3140</td>\n",
       "      <td>2</td>\n",
       "      <td>FINRA</td>\n",
       "      <td>2147484673</td>\n",
       "    </tr>\n",
       "    <tr>\n",
       "      <th>97</th>\n",
       "      <td>2022-01-20 08:02:37.965319-05:00</td>\n",
       "      <td>TRADE</td>\n",
       "      <td>AMZN</td>\n",
       "      <td>33127</td>\n",
       "      <td>3125.98</td>\n",
       "      <td>1</td>\n",
       "      <td>FINRA</td>\n",
       "      <td>2147484674</td>\n",
       "    </tr>\n",
       "    <tr>\n",
       "      <th>98</th>\n",
       "      <td>2022-01-20 08:02:38.364703-05:00</td>\n",
       "      <td>TRADE</td>\n",
       "      <td>AMZN</td>\n",
       "      <td>33127</td>\n",
       "      <td>3125.98</td>\n",
       "      <td>1</td>\n",
       "      <td>FINRA</td>\n",
       "      <td>2147484674</td>\n",
       "    </tr>\n",
       "    <tr>\n",
       "      <th>99</th>\n",
       "      <td>2022-01-20 08:02:47.225693-05:00</td>\n",
       "      <td>TRADE</td>\n",
       "      <td>AMZN</td>\n",
       "      <td>33127</td>\n",
       "      <td>3125.98</td>\n",
       "      <td>1</td>\n",
       "      <td>FINRA</td>\n",
       "      <td>2147484674</td>\n",
       "    </tr>\n",
       "  </tbody>\n",
       "</table>\n",
       "<p>100 rows × 8 columns</p>\n",
       "</div>"
      ],
      "text/plain": [
       "                      EventDateTime EventType Ticker  SecId      Price  \\\n",
       "0  2022-01-20 08:00:00.204207-05:00     TRADE   AMZN  33127       3139   \n",
       "1  2022-01-20 08:00:00.340423-05:00     TRADE   AMZN  33127       3142   \n",
       "2  2022-01-20 08:00:00.383482-05:00     TRADE   AMZN  33127    3137.89   \n",
       "3  2022-01-20 08:00:00.412228-05:00     TRADE   AMZN  33127     3140.4   \n",
       "4  2022-01-20 08:00:00.475118-05:00     TRADE   AMZN  33127  3143.0997   \n",
       "..                              ...       ...    ...    ...        ...   \n",
       "95 2022-01-20 08:01:40.541327-05:00     TRADE   AMZN  33127    3135.26   \n",
       "96 2022-01-20 08:02:13.634322-05:00     TRADE   AMZN  33127       3140   \n",
       "97 2022-01-20 08:02:37.965319-05:00     TRADE   AMZN  33127    3125.98   \n",
       "98 2022-01-20 08:02:38.364703-05:00     TRADE   AMZN  33127    3125.98   \n",
       "99 2022-01-20 08:02:47.225693-05:00     TRADE   AMZN  33127    3125.98   \n",
       "\n",
       "    Quantity Exchange  ConditionCode  \n",
       "0          2    FINRA     2147484673  \n",
       "1         50    FINRA     2147484673  \n",
       "2          3    FINRA     2147484673  \n",
       "3          5    FINRA     2147484673  \n",
       "4         30    FINRA     2147484673  \n",
       "..       ...      ...            ...  \n",
       "95        20    FINRA     2147484673  \n",
       "96         2    FINRA     2147484673  \n",
       "97         1    FINRA     2147484674  \n",
       "98         1    FINRA     2147484674  \n",
       "99         1    FINRA     2147484674  \n",
       "\n",
       "[100 rows x 8 columns]"
      ]
     },
     "execution_count": 13,
     "metadata": {},
     "output_type": "execute_result"
    }
   ],
   "source": [
    "eq_trades.filter(\n",
    "    (eq_trades.Ticker == 'AMZN') &\n",
    "    (fn.toDate(eq_trades.EventDateTime) == '2022-01-20') &\n",
    "    (eq_trades.Exchange == 'FINRA') &\n",
    "    (eq_trades.Quantity < 100)\n",
    ").head(100).fetch()"
   ]
  },
  {
   "cell_type": "code",
   "execution_count": 14,
   "id": "ee9a10c6",
   "metadata": {},
   "outputs": [
    {
     "name": "stdout",
     "output_type": "stream",
     "text": [
      "SELECT *\n",
      "FROM USEquityMarketData.TradeOnly\n",
      "WHERE (\"Ticker\" = 'AMZN') AND ((toDate(\"EventDateTime\")) = '2022-01-20') AND (\"Exchange\" = 'FINRA') AND (\"Quantity\" < 100)\n",
      "LIMIT 100\n"
     ]
    }
   ],
   "source": [
    "print(eq_trades.filter(\n",
    "    (eq_trades.Ticker == 'AMZN') &\n",
    "    (fn.toDate(eq_trades.EventDateTime) == '2022-01-20') &\n",
    "    (eq_trades.Exchange == 'FINRA') &\n",
    "    (eq_trades.Quantity < 100)\n",
    ").head(100).sql())"
   ]
  },
  {
   "cell_type": "code",
   "execution_count": 15,
   "id": "9a0c0984",
   "metadata": {
    "scrolled": false
   },
   "outputs": [
    {
     "data": {
      "text/html": [
       "<div>\n",
       "<style scoped>\n",
       "    .dataframe tbody tr th:only-of-type {\n",
       "        vertical-align: middle;\n",
       "    }\n",
       "\n",
       "    .dataframe tbody tr th {\n",
       "        vertical-align: top;\n",
       "    }\n",
       "\n",
       "    .dataframe thead th {\n",
       "        text-align: right;\n",
       "    }\n",
       "</style>\n",
       "<table border=\"1\" class=\"dataframe\">\n",
       "  <thead>\n",
       "    <tr style=\"text-align: right;\">\n",
       "      <th></th>\n",
       "      <th>Ticker</th>\n",
       "      <th>Exchange</th>\n",
       "      <th>High</th>\n",
       "    </tr>\n",
       "  </thead>\n",
       "  <tbody>\n",
       "    <tr>\n",
       "      <th>0</th>\n",
       "      <td>AAPL</td>\n",
       "      <td>AMEX</td>\n",
       "      <td>170.53</td>\n",
       "    </tr>\n",
       "    <tr>\n",
       "      <th>1</th>\n",
       "      <td>AAPL</td>\n",
       "      <td>BATS Y</td>\n",
       "      <td>170.34</td>\n",
       "    </tr>\n",
       "    <tr>\n",
       "      <th>2</th>\n",
       "      <td>AAPL</td>\n",
       "      <td>NASDAQ</td>\n",
       "      <td>170.82</td>\n",
       "    </tr>\n",
       "    <tr>\n",
       "      <th>3</th>\n",
       "      <td>AAPL</td>\n",
       "      <td>CSE</td>\n",
       "      <td>170.35</td>\n",
       "    </tr>\n",
       "    <tr>\n",
       "      <th>4</th>\n",
       "      <td>AAPL</td>\n",
       "      <td>NSE</td>\n",
       "      <td>170.315</td>\n",
       "    </tr>\n",
       "    <tr>\n",
       "      <th>...</th>\n",
       "      <td>...</td>\n",
       "      <td>...</td>\n",
       "      <td>...</td>\n",
       "    </tr>\n",
       "    <tr>\n",
       "      <th>75</th>\n",
       "      <td>NFLX</td>\n",
       "      <td>NSE</td>\n",
       "      <td>386.04</td>\n",
       "    </tr>\n",
       "    <tr>\n",
       "      <th>76</th>\n",
       "      <td>NFLX</td>\n",
       "      <td>AMEX</td>\n",
       "      <td>384.77</td>\n",
       "    </tr>\n",
       "    <tr>\n",
       "      <th>77</th>\n",
       "      <td>NFLX</td>\n",
       "      <td>CSE</td>\n",
       "      <td>384.84</td>\n",
       "    </tr>\n",
       "    <tr>\n",
       "      <th>78</th>\n",
       "      <td>NFLX</td>\n",
       "      <td>BATS Y</td>\n",
       "      <td>387.56</td>\n",
       "    </tr>\n",
       "    <tr>\n",
       "      <th>79</th>\n",
       "      <td>NFLX</td>\n",
       "      <td>NASDAQ</td>\n",
       "      <td>389</td>\n",
       "    </tr>\n",
       "  </tbody>\n",
       "</table>\n",
       "<p>80 rows × 3 columns</p>\n",
       "</div>"
      ],
      "text/plain": [
       "   Ticker Exchange     High\n",
       "0    AAPL     AMEX   170.53\n",
       "1    AAPL   BATS Y   170.34\n",
       "2    AAPL   NASDAQ   170.82\n",
       "3    AAPL      CSE   170.35\n",
       "4    AAPL      NSE  170.315\n",
       "..    ...      ...      ...\n",
       "75   NFLX      NSE   386.04\n",
       "76   NFLX     AMEX   384.77\n",
       "77   NFLX      CSE   384.84\n",
       "78   NFLX   BATS Y   387.56\n",
       "79   NFLX   NASDAQ      389\n",
       "\n",
       "[80 rows x 3 columns]"
      ]
     },
     "execution_count": 15,
     "metadata": {},
     "output_type": "execute_result"
    }
   ],
   "source": [
    "faang = ('FB', 'AAPL', 'AMZN', 'NFLX', 'GOOG')\n",
    "eq_trades.select([\n",
    "    eq_trades.Ticker,\n",
    "    eq_trades.Exchange,\n",
    "    fn.max(eq_trades.Price).alias('High')\n",
    "]).filter(\n",
    "    (eq_trades.Ticker.isin(faang)) &\n",
    "    (fn.toDate(eq_trades.EventDateTime) == '2022-01-28')\n",
    ").groupby([\n",
    "    eq_trades.Ticker,\n",
    "    eq_trades.Exchange\n",
    "]).sort(eq_trades.Ticker).fetch()"
   ]
  },
  {
   "cell_type": "code",
   "execution_count": 16,
   "id": "d7b4ac91",
   "metadata": {},
   "outputs": [],
   "source": [
    "ohlc = resource.datagroups.USEquityMarketData.datasets.PrimaryAdjustedOHLCDaily"
   ]
  },
  {
   "cell_type": "code",
   "execution_count": 17,
   "id": "338b3e6c",
   "metadata": {
    "scrolled": true
   },
   "outputs": [],
   "source": [
    "df = ohlc.select([\n",
    "    ohlc.TradeDate, ohlc.ClosePrice, ohlc.ListedMarketHoursVolume.alias('Volume')\n",
    "]).filter(\n",
    "    (ohlc.Ticker == 'IBM') &\n",
    "    (ohlc.TradeDate >= '2022-01-01') & \n",
    "    (ohlc.TradeDate < '2022-04-01')\n",
    ").fetch()"
   ]
  },
  {
   "cell_type": "code",
   "execution_count": 18,
   "id": "32ecb87f",
   "metadata": {
    "scrolled": false
   },
   "outputs": [
    {
     "data": {
      "text/plain": [
       "Text(0, 0.5, 'Price')"
      ]
     },
     "execution_count": 18,
     "metadata": {},
     "output_type": "execute_result"
    },
    {
     "data": {
      "image/png": "[encoded data removed]",
      "text/plain": [
       "<Figure size 900x450 with 1 Axes>"
      ]
     },
     "metadata": {
      "needs_background": "light"
     },
     "output_type": "display_data"
    }
   ],
   "source": [
    "fig, ax = plt.subplots(figsize=(6, 3), dpi=150)\n",
    "ax.plot(pd.to_datetime(df.TradeDate), df.ClosePrice)\n",
    "ax.set_xlabel('Trading Date')\n",
    "ax.set_ylabel('Price')"
   ]
  },
  {
   "cell_type": "code",
   "execution_count": 19,
   "id": "fd380f44",
   "metadata": {},
   "outputs": [],
   "source": [
    "ds = resource.datagroups.USEquityMarketData.datasets.TradeOnlyAdjustedMinuteBar"
   ]
  },
  {
   "cell_type": "code",
   "execution_count": 20,
   "id": "6c2746ed",
   "metadata": {},
   "outputs": [],
   "source": [
    "df = ds.select([\n",
    "    ds.BarDateTime, ds.LastTradePrice\n",
    "]).filter(\n",
    "    (ds.Ticker == 'IBM') &\n",
    "    (ds.BarDateTime >= '2022-01-20 09:30:00') & \n",
    "    (ds.BarDateTime < '2022-01-20 16:00:00')\n",
    ").fetch()"
   ]
  },
  {
   "cell_type": "code",
   "execution_count": 21,
   "id": "02de0c31",
   "metadata": {
    "scrolled": false
   },
   "outputs": [
    {
     "data": {
      "text/plain": [
       "Text(0, 0.5, 'Price')"
      ]
     },
     "execution_count": 21,
     "metadata": {},
     "output_type": "execute_result"
    },
    {
     "data": {
      "image/png": "[encoded data removed]",
      "text/plain": [
       "<Figure size 900x450 with 1 Axes>"
      ]
     },
     "metadata": {
      "needs_background": "light"
     },
     "output_type": "display_data"
    }
   ],
   "source": [
    "fig, ax = plt.subplots(figsize=(6, 3), dpi=150)\n",
    "ax.plot(pd.to_datetime(df.BarDateTime), df.LastTradePrice)\n",
    "ax.set_xlabel('Trading Date')\n",
    "ax.set_ylabel('Price')"
   ]
  },
  {
   "cell_type": "code",
   "execution_count": 22,
   "id": "387f70e7",
   "metadata": {},
   "outputs": [],
   "source": [
    "df = eq_trades.select([\n",
    "    eq_trades.EventDateTime, eq_trades.Price\n",
    "]).filter(\n",
    "    (eq_trades.Ticker == 'IBM') &\n",
    "    (eq_trades.EventDateTime >= '2022-01-20 15:00:00') &\n",
    "    (eq_trades.EventDateTime < '2022-01-20 15:05:00')\n",
    ").fetch()"
   ]
  },
  {
   "cell_type": "code",
   "execution_count": 23,
   "id": "c025069f",
   "metadata": {},
   "outputs": [
    {
     "data": {
      "text/plain": [
       "Text(0, 0.5, 'Price')"
      ]
     },
     "execution_count": 23,
     "metadata": {},
     "output_type": "execute_result"
    },
    {
     "data": {
      "image/png": "[encoded data removed]",
      "text/plain": [
       "<Figure size 900x450 with 1 Axes>"
      ]
     },
     "metadata": {
      "needs_background": "light"
     },
     "output_type": "display_data"
    }
   ],
   "source": [
    "fig, ax = plt.subplots(figsize=(6, 3), dpi=150)\n",
    "ax.plot(pd.to_datetime(df.EventDateTime), df.Price)\n",
    "ax.set_xlabel('Trading Date')\n",
    "ax.set_ylabel('Price')"
   ]
  }
 ],
 "metadata": {
  "kernelspec": {
   "display_name": "Python 3 (ipykernel)",
   "language": "python",
   "name": "python3"
  },
  "language_info": {
   "codemirror_mode": {
    "name": "ipython",
    "version": 3
   },
   "file_extension": ".py",
   "mimetype": "text/x-python",
   "name": "python",
   "nbconvert_exporter": "python",
   "pygments_lexer": "ipython3",
   "version": "3.7.9"
  },
  "toc": {
   "base_numbering": 1,
   "nav_menu": {},
   "number_sections": true,
   "sideBar": true,
   "skip_h1_title": false,
   "title_cell": "Table of Contents",
   "title_sidebar": "Contents",
   "toc_cell": false,
   "toc_position": {},
   "toc_section_display": true,
   "toc_window_display": false
  }
 },
 "nbformat": 4,
 "nbformat_minor": 5
}
